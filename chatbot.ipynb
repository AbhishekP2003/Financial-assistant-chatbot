{
 "cells": [
  {
   "cell_type": "code",
   "execution_count": 1,
   "id": "f617547d-b71e-4e15-ba2c-975633e16572",
   "metadata": {},
   "outputs": [],
   "source": [
    "import os\n",
    "import ssl\n",
    "import nltk\n",
    "import random\n",
    "import streamlit as st\n",
    "from sklearn.feature_extraction.text import TfidfVectorizer\n",
    "from sklearn.linear_model import LogisticRegression\n",
    "\n",
    "# SSL Setup for NLTK\n",
    "ssl._create_default_https_context = ssl._create_unverified_context\n"
   ]
  },
  {
   "cell_type": "code",
   "execution_count": 2,
   "id": "b01704b1-bdcc-4055-a51a-8d93aa1e6d7e",
   "metadata": {},
   "outputs": [],
   "source": [
    "# Financial-specific intents\n",
    "intents = [\n",
    "    {\n",
    "        \"tag\": \"greeting\",\n",
    "        \"patterns\": [\"Hi\", \"Hello\", \"Hey\", \"Good morning\", \"Good evening\"],\n",
    "        \"responses\": [\"Hello! How can I assist you today with your financial questions?\", \n",
    "                      \"Hi there! Do you need help with managing your finances or investments?\"]\n",
    "    },\n",
    "    {\n",
    "        \"tag\": \"budgeting\",\n",
    "        \"patterns\": [\"How can I create a budget?\", \"What is the 50/30/20 rule?\", \"How do I track my expenses?\"],\n",
    "        \"responses\": [\"To create a budget, list your income and expenses, and allocate amounts to different categories.\",\n",
    "                      \"The 50/30/20 rule suggests allocating 50% to needs, 30% to wants, and 20% to savings or debt.\",\n",
    "                      \"Tracking expenses can be done using apps, spreadsheets, or simply writing down daily expenses.\"]\n",
    "    },\n",
    "    {\n",
    "        \"tag\": \"investing\",\n",
    "        \"patterns\": [\"What is investing?\", \"How can I start investing in stocks?\", \"What are mutual funds?\"],\n",
    "        \"responses\": [\"Investing means putting money into assets with the expectation of earning a return.\",\n",
    "                      \"To start investing in stocks, research companies, set up a brokerage account, and buy stocks you're confident in.\",\n",
    "                      \"Mutual funds pool money from many investors to invest in a diversified portfolio of stocks or bonds.\"]\n",
    "    },\n",
    "    {\n",
    "        \"tag\": \"savings\",\n",
    "        \"patterns\": [\"How can I save money?\", \"What is an emergency fund?\", \"How much should I save every month?\"],\n",
    "        \"responses\": [\"To save money, start by setting specific savings goals and automate transfers to a savings account.\",\n",
    "                      \"An emergency fund is a savings buffer for unexpected expenses, typically 3-6 months of living expenses.\",\n",
    "                      \"A good rule of thumb is to save at least 20% of your income, but it depends on your financial goals.\"]\n",
    "    },\n",
    "    {\n",
    "        \"tag\": \"loans\",\n",
    "        \"patterns\": [\"What is a mortgage?\", \"How do personal loans work?\", \"What is the best way to pay off debt?\"],\n",
    "        \"responses\": [\"A mortgage is a loan taken to buy a property, usually repaid over 15-30 years with interest.\",\n",
    "                      \"Personal loans are unsecured loans that don't require collateral, and they typically have fixed repayment terms.\",\n",
    "                      \"The best way to pay off debt is to focus on high-interest debt first and consider consolidating or refinancing loans.\"]\n",
    "    },\n",
    "    {\n",
    "        \"tag\": \"stock_market\",\n",
    "        \"patterns\": [\"What is the stock market?\", \"How do I buy stocks?\", \"What are dividends?\"],\n",
    "        \"responses\": [\"The stock market is where buyers and sellers trade shares of publicly listed companies.\",\n",
    "                      \"To buy stocks, you need to open a brokerage account, deposit funds, and place buy orders on stocks you're interested in.\",\n",
    "                      \"Dividends are payments made by companies to their shareholders as a share of the company's profits.\"]\n",
    "    },\n",
    "    {\n",
    "        \"tag\": \"cryptocurrency\",\n",
    "        \"patterns\": [\"What is cryptocurrency?\", \"How can I buy Bitcoin?\", \"What is Ethereum?\"],\n",
    "        \"responses\": [\"Cryptocurrency is a digital or virtual form of currency that uses cryptography for security.\",\n",
    "                      \"To buy Bitcoin, you need to sign up on a cryptocurrency exchange, link a payment method, and place a buy order.\",\n",
    "                      \"Ethereum is a decentralized platform that enables smart contracts and decentralized applications, using the cryptocurrency Ether.\"]\n",
    "    },\n",
    "    {\n",
    "        \"tag\": \"goodbye\",\n",
    "        \"patterns\": [\"Bye\", \"Goodbye\", \"See you\", \"Take care\"],\n",
    "        \"responses\": [\"Goodbye! Take care of your finances and stay financially healthy.\", \n",
    "                      \"See you! Wishing you financial success and well-being.\"]\n",
    "    },\n",
    "]"
   ]
  },
  {
   "cell_type": "code",
   "execution_count": 3,
   "id": "75919d1a-0784-4989-98a7-0862a318a0b4",
   "metadata": {},
   "outputs": [
    {
     "data": {
      "text/html": [
       "<style>#sk-container-id-1 {color: black;background-color: white;}#sk-container-id-1 pre{padding: 0;}#sk-container-id-1 div.sk-toggleable {background-color: white;}#sk-container-id-1 label.sk-toggleable__label {cursor: pointer;display: block;width: 100%;margin-bottom: 0;padding: 0.3em;box-sizing: border-box;text-align: center;}#sk-container-id-1 label.sk-toggleable__label-arrow:before {content: \"▸\";float: left;margin-right: 0.25em;color: #696969;}#sk-container-id-1 label.sk-toggleable__label-arrow:hover:before {color: black;}#sk-container-id-1 div.sk-estimator:hover label.sk-toggleable__label-arrow:before {color: black;}#sk-container-id-1 div.sk-toggleable__content {max-height: 0;max-width: 0;overflow: hidden;text-align: left;background-color: #f0f8ff;}#sk-container-id-1 div.sk-toggleable__content pre {margin: 0.2em;color: black;border-radius: 0.25em;background-color: #f0f8ff;}#sk-container-id-1 input.sk-toggleable__control:checked~div.sk-toggleable__content {max-height: 200px;max-width: 100%;overflow: auto;}#sk-container-id-1 input.sk-toggleable__control:checked~label.sk-toggleable__label-arrow:before {content: \"▾\";}#sk-container-id-1 div.sk-estimator input.sk-toggleable__control:checked~label.sk-toggleable__label {background-color: #d4ebff;}#sk-container-id-1 div.sk-label input.sk-toggleable__control:checked~label.sk-toggleable__label {background-color: #d4ebff;}#sk-container-id-1 input.sk-hidden--visually {border: 0;clip: rect(1px 1px 1px 1px);clip: rect(1px, 1px, 1px, 1px);height: 1px;margin: -1px;overflow: hidden;padding: 0;position: absolute;width: 1px;}#sk-container-id-1 div.sk-estimator {font-family: monospace;background-color: #f0f8ff;border: 1px dotted black;border-radius: 0.25em;box-sizing: border-box;margin-bottom: 0.5em;}#sk-container-id-1 div.sk-estimator:hover {background-color: #d4ebff;}#sk-container-id-1 div.sk-parallel-item::after {content: \"\";width: 100%;border-bottom: 1px solid gray;flex-grow: 1;}#sk-container-id-1 div.sk-label:hover label.sk-toggleable__label {background-color: #d4ebff;}#sk-container-id-1 div.sk-serial::before {content: \"\";position: absolute;border-left: 1px solid gray;box-sizing: border-box;top: 0;bottom: 0;left: 50%;z-index: 0;}#sk-container-id-1 div.sk-serial {display: flex;flex-direction: column;align-items: center;background-color: white;padding-right: 0.2em;padding-left: 0.2em;position: relative;}#sk-container-id-1 div.sk-item {position: relative;z-index: 1;}#sk-container-id-1 div.sk-parallel {display: flex;align-items: stretch;justify-content: center;background-color: white;position: relative;}#sk-container-id-1 div.sk-item::before, #sk-container-id-1 div.sk-parallel-item::before {content: \"\";position: absolute;border-left: 1px solid gray;box-sizing: border-box;top: 0;bottom: 0;left: 50%;z-index: -1;}#sk-container-id-1 div.sk-parallel-item {display: flex;flex-direction: column;z-index: 1;position: relative;background-color: white;}#sk-container-id-1 div.sk-parallel-item:first-child::after {align-self: flex-end;width: 50%;}#sk-container-id-1 div.sk-parallel-item:last-child::after {align-self: flex-start;width: 50%;}#sk-container-id-1 div.sk-parallel-item:only-child::after {width: 0;}#sk-container-id-1 div.sk-dashed-wrapped {border: 1px dashed gray;margin: 0 0.4em 0.5em 0.4em;box-sizing: border-box;padding-bottom: 0.4em;background-color: white;}#sk-container-id-1 div.sk-label label {font-family: monospace;font-weight: bold;display: inline-block;line-height: 1.2em;}#sk-container-id-1 div.sk-label-container {text-align: center;}#sk-container-id-1 div.sk-container {/* jupyter's `normalize.less` sets `[hidden] { display: none; }` but bootstrap.min.css set `[hidden] { display: none !important; }` so we also need the `!important` here to be able to override the default hidden behavior on the sphinx rendered scikit-learn.org. See: https://github.com/scikit-learn/scikit-learn/issues/21755 */display: inline-block !important;position: relative;}#sk-container-id-1 div.sk-text-repr-fallback {display: none;}</style><div id=\"sk-container-id-1\" class=\"sk-top-container\"><div class=\"sk-text-repr-fallback\"><pre>LogisticRegression(max_iter=1000, random_state=42)</pre><b>In a Jupyter environment, please rerun this cell to show the HTML representation or trust the notebook. <br />On GitHub, the HTML representation is unable to render, please try loading this page with nbviewer.org.</b></div><div class=\"sk-container\" hidden><div class=\"sk-item\"><div class=\"sk-estimator sk-toggleable\"><input class=\"sk-toggleable__control sk-hidden--visually\" id=\"sk-estimator-id-1\" type=\"checkbox\" checked><label for=\"sk-estimator-id-1\" class=\"sk-toggleable__label sk-toggleable__label-arrow\">LogisticRegression</label><div class=\"sk-toggleable__content\"><pre>LogisticRegression(max_iter=1000, random_state=42)</pre></div></div></div></div></div>"
      ],
      "text/plain": [
       "LogisticRegression(max_iter=1000, random_state=42)"
      ]
     },
     "execution_count": 3,
     "metadata": {},
     "output_type": "execute_result"
    }
   ],
   "source": [
    "# Preparing the data for model training\n",
    "patterns = []\n",
    "tags = []\n",
    "for intent in intents:\n",
    "    for pattern in intent[\"patterns\"]:\n",
    "        patterns.append(pattern)\n",
    "        tags.append(intent[\"tag\"])\n",
    "\n",
    "# Text vectorization and model setup\n",
    "vectorizer = TfidfVectorizer()\n",
    "X = vectorizer.fit_transform(patterns)\n",
    "y = tags\n",
    "\n",
    "# Train the classifier\n",
    "model = LogisticRegression(random_state=42, max_iter=1000)\n",
    "model.fit(X, y)"
   ]
  },
  {
   "cell_type": "code",
   "execution_count": 4,
   "id": "8abacc19-86b1-44e6-af27-80360a09cc89",
   "metadata": {},
   "outputs": [],
   "source": [
    "# Chatbot logic\n",
    "def chatbot_response(user_input):\n",
    "    vectorized_input = vectorizer.transform([user_input])\n",
    "    tag = model.predict(vectorized_input)[0]\n",
    "    for intent in intents:\n",
    "        if intent[\"tag\"] == tag:\n",
    "            return random.choice(intent[\"responses\"])\n",
    "    return \"I'm sorry, I didn't understand that. Can you rephrase?\""
   ]
  },
  {
   "cell_type": "code",
   "execution_count": 5,
   "id": "17a175c5-bd34-4100-a00f-aa3d7d54c723",
   "metadata": {},
   "outputs": [
    {
     "name": "stderr",
     "output_type": "stream",
     "text": [
      "2024-12-11 12:37:00.295 WARNING streamlit.runtime.scriptrunner_utils.script_run_context: Thread 'MainThread': missing ScriptRunContext! This warning can be ignored when running in bare mode.\n",
      "2024-12-11 12:37:00.780 \n",
      "  \u001b[33m\u001b[1mWarning:\u001b[0m to view this Streamlit app on a browser, run it with the following\n",
      "  command:\n",
      "\n",
      "    streamlit run C:\\Users\\SHANMUGA\\anaconda3\\Lib\\site-packages\\ipykernel_launcher.py [ARGUMENTS]\n",
      "2024-12-11 12:37:00.780 Thread 'MainThread': missing ScriptRunContext! This warning can be ignored when running in bare mode.\n",
      "2024-12-11 12:37:00.780 Thread 'MainThread': missing ScriptRunContext! This warning can be ignored when running in bare mode.\n",
      "2024-12-11 12:37:00.780 Thread 'MainThread': missing ScriptRunContext! This warning can be ignored when running in bare mode.\n",
      "2024-12-11 12:37:00.780 Thread 'MainThread': missing ScriptRunContext! This warning can be ignored when running in bare mode.\n",
      "2024-12-11 12:37:00.780 Thread 'MainThread': missing ScriptRunContext! This warning can be ignored when running in bare mode.\n",
      "2024-12-11 12:37:00.780 Thread 'MainThread': missing ScriptRunContext! This warning can be ignored when running in bare mode.\n",
      "2024-12-11 12:37:00.780 Thread 'MainThread': missing ScriptRunContext! This warning can be ignored when running in bare mode.\n",
      "2024-12-11 12:37:00.780 Thread 'MainThread': missing ScriptRunContext! This warning can be ignored when running in bare mode.\n",
      "2024-12-11 12:37:00.780 Thread 'MainThread': missing ScriptRunContext! This warning can be ignored when running in bare mode.\n",
      "2024-12-11 12:37:00.780 Session state does not function when running a script without `streamlit run`\n",
      "2024-12-11 12:37:00.780 Thread 'MainThread': missing ScriptRunContext! This warning can be ignored when running in bare mode.\n",
      "2024-12-11 12:37:00.780 Thread 'MainThread': missing ScriptRunContext! This warning can be ignored when running in bare mode.\n"
     ]
    }
   ],
   "source": [
    "# Streamlit app\n",
    "def main():\n",
    "    st.title(\"Financial Assistant Chatbot\")\n",
    "    st.write(\"Hi, I'm your financial assistant. Ask me anything related to personal finance, investing, budgeting, or loans.\")\n",
    "    \n",
    "    # User input field\n",
    "    user_input = st.text_input(\"You:\", key=\"user_input\")\n",
    "\n",
    "    # Display chatbot's response when the user submits input\n",
    "    if user_input:\n",
    "        response = chatbot_response(user_input)\n",
    "        st.text_area(\"Chatbot:\", value=response, height=100, max_chars=None)\n",
    "\n",
    "        # If the response is a goodbye message, end the conversation\n",
    "        if response.lower() in ['goodbye', 'see you', 'take care']:\n",
    "            st.write(\"Thank you for chatting with me. Take control of your finances!\")\n",
    "            st.stop()\n",
    "\n",
    "if __name__ == \"__main__\":\n",
    "    main()"
   ]
  },
  {
   "cell_type": "code",
   "execution_count": null,
   "id": "e9cf991e-dfdb-430e-9af2-06e1c3281bc0",
   "metadata": {},
   "outputs": [],
   "source": []
  },
  {
   "cell_type": "code",
   "execution_count": null,
   "id": "1efebc37-d883-4bb4-bab5-75314a906e09",
   "metadata": {},
   "outputs": [],
   "source": []
  }
 ],
 "metadata": {
  "kernelspec": {
   "display_name": "Python 3 (ipykernel)",
   "language": "python",
   "name": "python3"
  },
  "language_info": {
   "codemirror_mode": {
    "name": "ipython",
    "version": 3
   },
   "file_extension": ".py",
   "mimetype": "text/x-python",
   "name": "python",
   "nbconvert_exporter": "python",
   "pygments_lexer": "ipython3",
   "version": "3.11.7"
  }
 },
 "nbformat": 4,
 "nbformat_minor": 5
}
